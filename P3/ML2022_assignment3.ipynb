{
 "cells": [
  {
   "cell_type": "markdown",
   "id": "fa7e8f8e",
   "metadata": {
    "tags": []
   },
   "source": [
    "# Assignment 3 \n",
    "\n",
    "*Part of the course:\n",
    "Machine Learning (code: INFOB3ML), fall 2022, Utrecht University*\n",
    "\n",
    "Total points: 10 (100%)\n",
    "\n",
    "Deadline: Friday 21 October, 23:59\n",
    "\n",
    "**Write your names and student numbers here: Just Hogenelst (4745051) & Andreas Meeldijk (0892734)**\n",
    "\n",
    "Submit one ipynb file per pair.\n",
    "\n",
    "**Before you submit, click Kernel > Restart & Run All to make sure you submit a working version of your code!**\n"
   ]
  },
  {
   "cell_type": "markdown",
   "id": "2a80500c",
   "metadata": {},
   "source": [
    "\n",
    "## The BoAW Approach for emotion classification of utterances\n",
    "In this programming assignment, you will be implementing Bag-of-Audio-Words (BoAW) method for acoustic low level descriptor (LLD) representation over utterances.\n",
    "The acoustic LLDs per utterance are extracted and provided to you in separate files.\n",
    "Your task is to implement the BoAW approach and the component methods, followed by classification using existing python libraries.\n",
    "\n",
    "In a nutshell, you will be implementing the following functions (use of an existing library/package like `sklearn` is not allowed for this part):\n",
    "1. Principal Component Analysis (PCA)\n",
    "2. K-Means algorithm \n",
    "3. BoAW representation function\n",
    "\n",
    "You will then experiment with different combinations of PCA dimensions (`p_pca`) and K-Means components (`K`), and optimize said combinations using a Support Vector Machine (SVM) classifier. \n",
    "You are given data of 16 speakers, where: \n",
    "- The data of the first 8 speakers will be used as training set\n",
    "- The data of speakers 9-12 will be used as validation set and\n",
    "- The data of speakers 13-16 will be used as the test set.\n",
    "\n",
    "The training set will be used to learn PCA and K-Means model, as well as to train the SVM classifiers using the BoAW representations as features and the emotions of the speakers as responses.\n",
    "The hyper-parameter `C` of the classifiers as well as the number of principal components (`p_pca`) and cluster components (`K`) will be optimized on the validation set.\n",
    "The top model (resulting from the best combination of `p_pca`, `K` and `C` hyper-parameters) will be applied to the test set. "
   ]
  },
  {
   "cell_type": "markdown",
   "id": "f6095ca9",
   "metadata": {
    "tags": []
   },
   "source": [
    "### The BoAW approach\n",
    "In the BoAW approach (can also be applied to visual descriptors) we train a K-Means model using the combined LLDs from all trained set utterances.\n",
    "Since K-Means assumes no correlations in the data, and partly for reducing dimensionality, we first apply PCA to LLDs. \n",
    "The BoAW representation amounts to assigning each LLD to the nearest K-Means cluster and computing a K-dimensional histogram of the accumulated instances around each mean.\n",
    "This means that each utterance will be \"represented\" by a histogram, where each entry is the number of LLD sequences in the utterance that are assigned to a certain cluster.\n",
    "Normalization of the histogram (so that each entry is a frequency as opposed to an absolute number) is possible."
   ]
  },
  {
   "cell_type": "markdown",
   "id": "58547b18",
   "metadata": {},
   "source": [
    "### Note\n",
    "The last part of this assignment contains a lot of code that you do not need to (and should not) modify. However, it is important that you understand what is going on there, otherwise it will be difficult to fill-in the blanks when we ask you to.\n",
    "\n",
    "The only places where you need to write code say \"YOUR CODE HERE\" explicitly."
   ]
  },
  {
   "cell_type": "markdown",
   "id": "434681b9",
   "metadata": {},
   "source": [
    "### Required packages:\n",
    "- numpy\n",
    "- pandas\n",
    "- scipy\n",
    "- sklearn\n",
    "\n",
    "\n",
    "### Required Dataset\n",
    "You can download the zipped folder containing the extracted acoustic LLDs from subset of RAVDESS dataset from: \n",
    "\n",
    "https://surfdrive.surf.nl/files/index.php/s/EeJxsea0CfCn17S\n",
    "\n",
    "Unzip it in the same folder as this python notebook to ensure smooth working of the scripts we have prepared."
   ]
  },
  {
   "cell_type": "code",
   "execution_count": 1,
   "id": "ca673c64",
   "metadata": {},
   "outputs": [],
   "source": [
    "# DO NOT MODIFY\n",
    "import numpy as np"
   ]
  },
  {
   "cell_type": "markdown",
   "id": "9d5247eb",
   "metadata": {
    "tags": []
   },
   "source": [
    "### Step 1: Implementing PCA (Graded 20%)\n",
    "Define a function `mypca(X)` with the following signature:\n",
    " - Input  `X`: N x D dimensional dataset\n",
    " - Output: `(W, lambda, mu)`\n",
    "     + `W`: D x D eigenvalue sorted PCA projection matrix (i.e. first column is the first principal component)\n",
    "     + `lambdas`: Dx1 vector of sorted eigenvalues (sorted in _descending_ order)\n",
    "     + `mu`: Dx1 the mean of X (should be calculated and removed from the data before subsequent projection using W)\n",
    "     \n",
    "Hints: \n",
    " 1. Recall that you should start by ensuring that the data has zero mean.\n",
    " 2. You may want to make use of the numpy function `np.cov`. Be careful with what matrix you feed into this function. (Extra hint: look at the description `rowvar` argument of this function in the documentation).\n",
    " 3. You will want to sort the eigenvalues in descending order, but numpy's sort method can only sort in ascending order. You may want to consider using `np.argsort` and using the fact that the ascending sorting indices for `-v` and the descending sorting indices for `v` are the same.\n",
    " 4. Other numpy functions you may want to use: `np.mean`, `np.linalg.eig`."
   ]
  },
  {
   "cell_type": "code",
   "execution_count": 2,
   "id": "889ed8fe",
   "metadata": {},
   "outputs": [],
   "source": [
    "def mypca(X):\n",
    "    mu = X.mean(0)\n",
    "    C = np.cov(X, rowvar=False)\n",
    "\n",
    "    eig_vals, eig_vect = np.linalg.eig(C)\n",
    "    \n",
    "    eig_sort = np.argsort(-eig_vals)\n",
    "\n",
    "    W = eig_vect[:, eig_sort]\n",
    "    lambdas = eig_vals[eig_sort]\n",
    "   \n",
    "    return W, lambdas, mu"
   ]
  },
  {
   "cell_type": "code",
   "execution_count": 3,
   "id": "b81d2076",
   "metadata": {},
   "outputs": [
    {
     "name": "stdout",
     "output_type": "stream",
     "text": [
      "W = [[-0.19056484  0.29124074  0.9374774 ]\n",
      " [ 0.75580654 -0.56588686  0.32943669]\n",
      " [ 0.62645153  0.7713306  -0.11228352]]\n",
      "\n",
      "lambdas = [0.0568462  0.02424662 0.00291952]\n",
      "\n",
      "mu = [0.47868135 0.70558555 0.68530379]\n"
     ]
    }
   ],
   "source": [
    "# TEST\n",
    "np.random.seed(0)\n",
    "X = np.random.rand(4, 3) # Three features; four samples.\n",
    "\n",
    "W, lambdas, mu = mypca(X)\n",
    "print(f\"W = {W}\")\n",
    "print(f\"\\nlambdas = {lambdas}\")\n",
    "print(f\"\\nmu = {mu}\")\n",
    "\n",
    "\n",
    "assert W.shape == (3, 3), \"Wrong shape of array W!\"\n",
    "assert len(lambdas) == 3, \"Wrong length of vector lambdas!\"\n",
    "assert len(mu) == 3, \"Wrong length of vector mu!\""
   ]
  },
  {
   "cell_type": "markdown",
   "id": "e1e103d0",
   "metadata": {
    "tags": []
   },
   "source": [
    "### Step 2: Implementing K-Means (Graded 40%)\n",
    "Define a function `mykmeans(X, K, maxiter=200, epsilon=0.0001)` with the following signature:\n",
    " - Input\n",
    "     + `X`: N x D dimensional dataset\n",
    "     + `K`: Hyper-parameter (number of clusters) of K-Means\n",
    "     + `maxiter`: maximum number of iterations (default 200)\n",
    "     + `epsilon`: algorithm will stop when error improvement < epsilon (or number of iterations surpasses `maxiter`) (default 200)\n",
    " - Output: `(M, A)`\n",
    "     + `M`: K x D dimensional matrix of means\n",
    "     + `A`: N x 1 dimensional cluster assignments\n",
    "     \n",
    "Notes:\n",
    " 1. It is not necessary but you may want to test your function in a simple example that is easy to visualize, like the ones in the book. In that case, you'll need to come up with it yourself. If you do so, I would advise doing so in a separate Python file and if you do it in this notebook _do not leave that extra code in, or you'll be penalized_.\n",
    " 2. You will need to compute distances between samples `X[n]` and mean vectors `M[k]`. You can use the function `dist` given below for that. Do not modify it."
   ]
  },
  {
   "cell_type": "code",
   "execution_count": 4,
   "id": "8ee09d31",
   "metadata": {},
   "outputs": [],
   "source": [
    "# DO NOT MODIFY\n",
    "from scipy.spatial.distance import cdist\n",
    "# Hint: you will need this function in your K-Means (mykmeans) and BoAW (myboaw) function implementations\n",
    "def dist(X, M):\n",
    "    \"\"\"Computes the matrix with entries dist_matrix_nk = euclidean distance between X[n] and M[k] efficiently.\"\"\"\n",
    "    return cdist(X,M,metric='euclidean')"
   ]
  },
  {
   "cell_type": "code",
   "execution_count": 5,
   "id": "223e203a",
   "metadata": {},
   "outputs": [],
   "source": [
    "def mykmeans(X, K, maxiter=200, epsilon=0.0001):\n",
    "    np.random.seed(1)\n",
    "    N, D = X.shape\n",
    "    # initialize model/output variables\n",
    "    initial_indices = np.random.choice(N, K) # sample random K out of N instances to use as initial means\n",
    "    M = X[initial_indices, :] # (K, D) matrix\n",
    "    min_indices = np.zeros((N, 1))\n",
    "    error_log = np.zeros((maxiter,1)) # You can save the errors here, to then use for computing delta\n",
    "    iteration = 0\n",
    "    cont = 1 # set to 0 when convergence criteria is met\n",
    "\n",
    "    print(\"Running k-means...\")\n",
    "    while cont:\n",
    "        Xdist = dist(X, M)\n",
    "        clusters = np.argmin(dist(X, M), axis=1)\n",
    "        for cluster in range(K):\n",
    "            indexes = np.where(clusters == cluster)[0]\n",
    "            if len(indexes) == 0:\n",
    "                break\n",
    "            points_in_cluster = X[indexes]\n",
    "\n",
    "            M[cluster] = points_in_cluster.mean(axis=0)\n",
    "        \n",
    "        error_log[iteration] = Xdist.min(axis=1).sum()\n",
    "\n",
    "         \n",
    "        if iteration == 0: \n",
    "            delta = 100000 # Something very high \n",
    "        else:\n",
    "            delta = (error_log[iteration - 1][0] - error_log[iteration][0])/error_log[iteration-1][0]\n",
    "            \n",
    "        if (delta <= epsilon or iteration == maxiter - 1):\n",
    "            cont=0\n",
    "            \n",
    "        assert not np.isnan(delta), \"delta is nan!\"\n",
    "            \n",
    "        print(f\"iteration: {iteration}, delta: {delta}\")\n",
    "        iteration = iteration + 1;\n",
    "    \n",
    "    # Final update of the indices specifying the clusters for each sample\n",
    "    dist_matrix = Xdist\n",
    "    min_indices = clusters\n",
    "    A = min_indices # Just renaming\n",
    "    \n",
    "    return np.asmatrix(M), np.asmatrix(A)"
   ]
  },
  {
   "cell_type": "code",
   "execution_count": 6,
   "id": "4ed3bce1",
   "metadata": {},
   "outputs": [
    {
     "name": "stdout",
     "output_type": "stream",
     "text": [
      "Running k-means...\n",
      "iteration: 0, delta: 100000\n",
      "iteration: 1, delta: 0.15549821019717713\n",
      "iteration: 2, delta: 0.07285190935040195\n",
      "iteration: 3, delta: 0.1200254769503095\n",
      "iteration: 4, delta: -0.04731961110822541\n"
     ]
    },
    {
     "data": {
      "text/plain": [
       "(matrix([[5, 8],\n",
       "         [5, 2],\n",
       "         [8, 3]]),\n",
       " matrix([[1, 1, 2, 1, 0, 0, 2, 0, 0, 0, 2, 1]], dtype=int64))"
      ]
     },
     "execution_count": 6,
     "metadata": {},
     "output_type": "execute_result"
    }
   ],
   "source": [
    "# TEST\n",
    "np.random.seed(0)\n",
    "X = np.random.randint(1, 10, (12, 2)) #  two features; 12 samples.\n",
    "K = 3\n",
    "mykmeans(X, K)"
   ]
  },
  {
   "cell_type": "markdown",
   "id": "de2f4052",
   "metadata": {
    "tags": []
   },
   "source": [
    "### Step 3: Implementing Bag of Audio Words (BoAW) representation (Graded 20%)\n",
    "Define a function `myboaw(X_LLD, M)` which assigns the set of LLDs in the first argument to the nearest mean using the matrix of means given in the second argument.\n",
    "The function should have the following signature:\n",
    " - Input:\n",
    "     + `X_LLD`: N x D matrix of LLDs from each utterance, where N is the number of frames / instances and D is the (reduced) LLD dimensionality\n",
    "     + `M`: K x D matrix of means (code vectors) outputed from K-Means\n",
    " - Output:\n",
    "     + `boaw_rep`: K x 1 matrix with the _normalized_ boaw representation for each cluster k in each entry.\n",
    "     \n",
    "Hint:\n",
    " - After obtaining the K x 1 vector of unnormalized boaw representations (whose entries are integers), you can get the normalized version by simple dividing the unnormalized vector by the sum over all the entries of the unnormalized boaw vector. "
   ]
  },
  {
   "cell_type": "code",
   "execution_count": 7,
   "id": "32d3e64e",
   "metadata": {},
   "outputs": [],
   "source": [
    "def myboaw(X_LLD, M):\n",
    "    Xdist = dist(X_LLD, M)\n",
    "    boaw_rep = np.zeros(len(M))\n",
    "    clusters = np.argmin(Xdist, axis=1)\n",
    "    for i in clusters:\n",
    "        boaw_rep[i] += 1\n",
    "    total = X_LLD.shape[0]\n",
    "    boaw_rep = boaw_rep / total\n",
    "    return boaw_rep"
   ]
  },
  {
   "cell_type": "code",
   "execution_count": 8,
   "id": "5662465e",
   "metadata": {},
   "outputs": [
    {
     "name": "stdout",
     "output_type": "stream",
     "text": [
      "Running k-means...\n",
      "iteration: 0, delta: 100000\n",
      "iteration: 1, delta: 0.15549821019717713\n",
      "iteration: 2, delta: 0.07285190935040195\n",
      "iteration: 3, delta: 0.1200254769503095\n",
      "iteration: 4, delta: -0.04731961110822541\n"
     ]
    },
    {
     "data": {
      "text/plain": [
       "array([0.41666667, 0.33333333, 0.25      ])"
      ]
     },
     "execution_count": 8,
     "metadata": {},
     "output_type": "execute_result"
    }
   ],
   "source": [
    "# TEST\n",
    "np.random.seed(0)\n",
    "X = np.random.randint(1, 10, (12, 2)) #  two features; 12 samples.\n",
    "K = 3\n",
    "testM, _ = mykmeans(X, K)\n",
    "myboaw(X, testM)"
   ]
  },
  {
   "cell_type": "markdown",
   "id": "da41537a",
   "metadata": {
    "tags": []
   },
   "source": [
    "## Step 4: BoAW representation in action (graded 20%)"
   ]
  },
  {
   "cell_type": "markdown",
   "id": "5d571dfd",
   "metadata": {
    "tags": []
   },
   "source": [
    "### Step 4.1: Data ingestion (0% - we do it for you!)\n",
    "Read the data and place them in an appropriate data structure such that LLD sequence coming from each file (=utterance) is contained separately.\n",
    "\n",
    "NOTES:\n",
    " 1. Even though you do not need to write code for this part, make sure you understand what is going on, otherwise you will not comprehend the next steps.\n",
    " 2. I would advise you to put the RAVDESS directory in the directory where this notebook is being run from - otherwise you will need to modify the variable `base_folder` below, as is written there."
   ]
  },
  {
   "cell_type": "code",
   "execution_count": 9,
   "id": "81deb21a",
   "metadata": {},
   "outputs": [],
   "source": [
    "# DO NOT MODIFY\n",
    "\n",
    "import glob\n",
    "import os\n",
    "import pandas as pd\n",
    "\n",
    "\n",
    "# Each file will have some data and metadata we will want to record. We do so in using a class:\n",
    "class FileData():\n",
    "    def __init__(self, speakerid, emoid, LLDseq, LLDcount):\n",
    "        self.speakerid = speakerid\n",
    "        self.emoid = emoid\n",
    "        self.LLDseq = LLDseq\n",
    "        self.LLDcount = LLDcount\n",
    "        \n",
    "\n",
    "def ingest_ravdess_data(base_folder):\n",
    "    \"\"\"Build list of FileData instances, one per file/utterance.\"\"\"\n",
    "    LLD_folder = 'LLD_CSV_IS13/'\n",
    "    list_actors_dirs = sorted(glob.glob(os.path.join(base_folder, LLD_folder, 'Actor*')))\n",
    "    #print(list_actors_dirs)\n",
    "    \n",
    "    cnt = 0\n",
    "    LLD_data = [] # To be populated by instances of FileData\n",
    "        \n",
    "    # The metadata can be obtained from the provided metadata.csv or from the\n",
    "    # filename directly. We'll do the latter.\n",
    "\n",
    "    for actor_folder in list_actors_dirs:\n",
    "        list_actorLLDfiles = sorted(glob.glob(os.path.join(actor_folder, '*.csv')))\n",
    "        #print(list_actorLLDfiles)\n",
    "        for actor_file in list_actorLLDfiles:\n",
    "            #print(f\"file: {actor_file}\")\n",
    "            cnt = cnt + 1\n",
    "            tmp_data_og = pd.read_csv(actor_file, sep=';')\n",
    "            tmp_data = tmp_data_og.iloc[:, 2:]\n",
    "            # if cnt == 1: # Visualise data on first iteration\n",
    "            #     print(tmp_data.shape)\n",
    "            #     print(tmp_data.iloc[:5, :4])\n",
    "            #     cols = tmp_data.columns\n",
    "            #     #print(f\"Column names: {[\"\\n\\t\" + f\"{col}\" for col in cols]}\")\n",
    "            #     print(\"\\nColumns:\")\n",
    "            #     for col in cols:\n",
    "            #         print(\"\\t\" + f\"{col}\")\n",
    "            actor_file_wo_ext = os.path.splitext(actor_file)[0] # Remove extension from file name\n",
    "            filecodes = str.split(actor_file_wo_ext,'-') # list with the filecodes, for example ['03', '02', ...]\n",
    "            emoid = int(filecodes[2]) # the third filecode corresponds to the emotion id\n",
    "            #print(f\"emoid: {emoid}\")\n",
    "            speakerid = int(filecodes[-1]) # the last filecode corresponds to the actor/speaker id\n",
    "            LLD_data.append(FileData(speakerid, emoid, tmp_data, tmp_data.shape[0]))\n",
    "    assert len(LLD_data) == 704, \"Something went wrong! There are 704 csv files in the RAVDESS dataset, but len(LLD_data) != 704.\"\n",
    "    \n",
    "    return LLD_data"
   ]
  },
  {
   "cell_type": "code",
   "execution_count": 10,
   "id": "a4a4b2a1",
   "metadata": {},
   "outputs": [],
   "source": [
    "# ONLY MODIFY IF BASE-FOLDER IS DIFFERENT!\n",
    "base_folder = './RAVDESS/' # Assuming that the RAVDESS directory is in the directory where this notebook is being run from.\n",
    "LLD_data = ingest_ravdess_data(base_folder)"
   ]
  },
  {
   "cell_type": "code",
   "execution_count": 11,
   "id": "2a6be39a",
   "metadata": {},
   "outputs": [],
   "source": [
    "# DO NOT MODIFY\n",
    "\n",
    "# In this part, each function does one of these things:\n",
    "#  1. Generate train data table with one LLDseq (corresponding to one audio frame) per row, using the first few speakers only.\n",
    "#  2. Generate the mask arrays (using the speakerids) that will be used in the rest of this notebook\n",
    "#        for splitting the datasets in train, val and test sets.\n",
    "#  3. Generate the response variable vectors for the train, val and test sets.\n",
    "\n",
    "def build_ravdess_train_dataset(LLD_data, n_speakers_train=8):\n",
    "    \"\"\"Builds RAVDESS dataset from list of FileData corresponding to the LLD of the utterances. \n",
    "    \n",
    "    Input:\n",
    "        LLD_data -- list of FileData instances, one for each utterance file.\n",
    "        \n",
    "    Output:\n",
    "        all_train_LLDsequences -- dataframe of shape (N_seqs=total number of LLD seqs, number of LLD features),\n",
    "                                    with one LLD sequence per row.\n",
    "        \n",
    "    \"\"\"\n",
    "    all_train_LLDsequences = pd.concat([file_data.LLDseq for file_data in LLD_data if file_data.speakerid <= n_speakers_train]) # Each LLDseq is one feature vector\n",
    "\n",
    "    return all_train_LLDsequences\n",
    "\n",
    "\n",
    "def generate_splitting_masks(LLD_data, n_speakers_train=8, n_speakers_val=4):\n",
    "    all_speakerids = np.array([file_data.speakerid for file_data in LLD_data])\n",
    "\n",
    "    # Masks to build dataset using speaker ids:\n",
    "    mask_train = all_speakerids <= n_speakers_train\n",
    "    mask_val = np.logical_and(n_speakers_train < all_speakerids, all_speakerids <= n_speakers_train + n_speakers_val)\n",
    "    mask_test = n_speakers_train + n_speakers_val < all_speakerids\n",
    "    \n",
    "    return mask_train, mask_val, mask_test, all_speakerids\n",
    "\n",
    "def prepare_ravdess_response_data(LLD_data, mask_train, mask_val, mask_test):\n",
    "    all_emoids = np.array([file_data.emoid for file_data in LLD_data])\n",
    "    \n",
    "    # Response's part of the dataset\n",
    "    emoids_train = all_emoids[mask_train]\n",
    "    emoids_val = all_emoids[mask_val]\n",
    "    emoids_test = all_emoids[mask_test]\n",
    "    \n",
    "    return emoids_train, emoids_val, emoids_test"
   ]
  },
  {
   "cell_type": "code",
   "execution_count": 12,
   "id": "49d0b93b",
   "metadata": {},
   "outputs": [],
   "source": [
    "# DO NOT MODIFY\n",
    "# Make 0.5-0.25-0.25 train-val-test split using speakerid\n",
    "# (i.e. 8 speakers for the train, 4 speakers for the val and 4 speakers for the test sets).\n",
    "mask_train, mask_val, mask_test, _ = generate_splitting_masks(LLD_data)\n",
    "emoids_train, emoids_val, emoids_test = prepare_ravdess_response_data(LLD_data, mask_train, mask_val, mask_test)\n",
    "LLDs_train = build_ravdess_train_dataset(LLD_data)"
   ]
  },
  {
   "cell_type": "code",
   "execution_count": 13,
   "id": "e037714a",
   "metadata": {},
   "outputs": [
    {
     "name": "stdout",
     "output_type": "stream",
     "text": [
      "(162621, 130)\n",
      "[1 1 1 1 2 2 2 2 2 2 2 2 3 3 3 3 3 3 3 3 4 4 4 4 4 4 4 4 5 5 5 5 5 5 5 5 6\n",
      " 6 6 6 6 6 6 6]\n"
     ]
    }
   ],
   "source": [
    "# TEST:\n",
    "print(LLDs_train.shape)\n",
    "print(emoids_train[:44]) # Look at some responses\n",
    "\n",
    "assert LLDs_train.shape[1] == 130, \"There should be 130 features.\""
   ]
  },
  {
   "cell_type": "markdown",
   "id": "846ea25a",
   "metadata": {
    "tags": []
   },
   "source": [
    "### Step 4.2: Learn PCA projection (5%)\n",
    "Learn a PCA projection (i.e. the eigenvectors and eigenvalues of the covariance matrix) using your own PCA implementation, namely `mypca`.\n",
    "\n",
    "NOTE:\n",
    "If there is a large variance across variances of the features then it is wise to z-normalize the data before applying PCA (using for example an instance of the `sklearn.preprocessing.StandardScaler` class).\n",
    "\n",
    "Running the code below shows that indeed there is a huge difference in variances"
   ]
  },
  {
   "cell_type": "code",
   "execution_count": 14,
   "id": "3f72c86d",
   "metadata": {},
   "outputs": [
    {
     "name": "stdout",
     "output_type": "stream",
     "text": [
      "Variances:\n",
      "-----\n",
      "F0final_sma                  23295.126736\n",
      "voicingFinalUnclipped_sma        0.184585\n",
      "jitterLocal_sma                  0.002086\n",
      "jitterDDP_sma                    0.001889\n",
      "shimmerLocal_sma                 0.010514\n",
      "                                 ...     \n",
      "mfcc_sma_de[10]                  6.408354\n",
      "mfcc_sma_de[11]                  6.417294\n",
      "mfcc_sma_de[12]                  5.963105\n",
      "mfcc_sma_de[13]                  4.900797\n",
      "mfcc_sma_de[14]                  4.299584\n",
      "Length: 130, dtype: float64\n",
      "-----\n",
      "Variance of the variances: 5.4100025350021576e+26\n"
     ]
    }
   ],
   "source": [
    "# DO NOT MODIFY\n",
    "data_var = LLDs_train.var()\n",
    "print(f\"Variances:\\n{'-'*5}\\n{data_var}\\n{'-'*5}\")\n",
    "#ratio_extremes = np.max(data_var)/np.min(data_var)\n",
    "var_of_variances = np.var(data_var)\n",
    "#print(ratio_extremes)\n",
    "print(f\"Variance of the variances: {var_of_variances}\")"
   ]
  },
  {
   "cell_type": "code",
   "execution_count": 15,
   "id": "f44b3b29",
   "metadata": {},
   "outputs": [],
   "source": [
    "# You now need to Z-normalize X. Call the resulting variable X_zn. Hint: use sklearn.preprocessing.StandardScaler.\n",
    "#--- YOUR CODE HERE ---#\n",
    "from sklearn.preprocessing import StandardScaler\n",
    "scaler = StandardScaler()\n",
    "scaler.fit(LLDs_train)\n",
    "X_zn = scaler.transform(LLDs_train)\n",
    "\n",
    "# Finally, apply mypca to extract pca_W and pca_lambdas\n",
    "pca_W, pca_lambdas, _ = mypca(X_zn)"
   ]
  },
  {
   "cell_type": "code",
   "execution_count": 16,
   "id": "b36ba12a",
   "metadata": {},
   "outputs": [
    {
     "name": "stdout",
     "output_type": "stream",
     "text": [
      "(162621, 130)\n",
      "(130, 130)\n",
      "(130,)\n"
     ]
    }
   ],
   "source": [
    "# TEST:\n",
    "print(X_zn.shape)\n",
    "print(pca_W.shape)\n",
    "print(pca_lambdas.shape)\n",
    "\n",
    "assert X_zn.shape == (162621, 130), \"Something went wrong!\"\n",
    "assert pca_W.shape == (130, 130), \"Something went wrong!\"\n",
    "assert pca_lambdas.shape == (130,), \"Something went wrong!\""
   ]
  },
  {
   "cell_type": "markdown",
   "id": "99444478",
   "metadata": {
    "tags": []
   },
   "source": [
    "### Step 4.3: Applying PCA and K-means (5%)\n",
    "\n",
    "Project the training set using the first `p_pca` PCA components and train a K-Means model with K components.\n",
    "Using a number `p_pca` of principal components equal to 120 and a number of clusters `K` of 256."
   ]
  },
  {
   "cell_type": "code",
   "execution_count": 17,
   "id": "662d563e",
   "metadata": {},
   "outputs": [],
   "source": [
    "# DO NOT MODIFY\n",
    "p_pca = 120\n",
    "K = 256"
   ]
  },
  {
   "cell_type": "markdown",
   "id": "611f7987",
   "metadata": {},
   "source": [
    "We already have the pre-processed (z-normalized) training LLD data.\n",
    "\n",
    "First, get PCA projection onto the (basis spanned by) the first p_pca eigenvectors.\n",
    "Call the resulting matrix `Z_LLD_train`.\n",
    "\n",
    "Hint: This function should not have more than a couple lines."
   ]
  },
  {
   "cell_type": "code",
   "execution_count": 18,
   "id": "22ab444e",
   "metadata": {},
   "outputs": [],
   "source": [
    "def project_onto_pcs(X, pca_W, p_pca):\n",
    "    # Projecting coincides with matrix multiplication (if pca_W column vectors are normalized, which they are):\n",
    "    #PROJECT IT USING PCA_W\n",
    "    reduced_pca_W = pca_W[:,0:p_pca]\n",
    "    X_projected = np.zeros((X.shape[0], p_pca))\n",
    "    Reduced_X = np.dot(reduced_pca_W.T, X.T).T\n",
    "        \n",
    "    return Reduced_X"
   ]
  },
  {
   "cell_type": "code",
   "execution_count": 19,
   "id": "f9498268",
   "metadata": {},
   "outputs": [],
   "source": [
    "# DO NOT MODIFY\n",
    "Z_LLD_train = project_onto_pcs(X_zn, pca_W, p_pca)"
   ]
  },
  {
   "cell_type": "code",
   "execution_count": 20,
   "id": "1ee8eb6f",
   "metadata": {},
   "outputs": [
    {
     "name": "stdout",
     "output_type": "stream",
     "text": [
      "(162621, 120)\n"
     ]
    }
   ],
   "source": [
    "# TEST\n",
    "print(Z_LLD_train.shape)\n",
    "assert Z_LLD_train.shape == (162621, 120), \"Something went wrong! Shape of Z_LLD_train is incorrect!\""
   ]
  },
  {
   "cell_type": "code",
   "execution_count": 21,
   "id": "aeb9f30c",
   "metadata": {},
   "outputs": [
    {
     "name": "stdout",
     "output_type": "stream",
     "text": [
      "(40656, 120)\n"
     ]
    }
   ],
   "source": [
    "# DO NOT MODIFY\n",
    "# We will use only every fourth frame/LLD sequence, to reduce the computation time.\n",
    "\n",
    "def subsample(X, n_subsample):\n",
    "    X_subsample = X[np.arange(X.shape[0], step=n_subsample), :] # Use every n_sample'th point\n",
    "    return X_subsample\n",
    "    \n",
    "n_subsample = 4 # Use every fourth frame\n",
    "Z_LLD_train_subsample = subsample(Z_LLD_train, n_subsample)\n",
    "print(Z_LLD_train_subsample.shape)"
   ]
  },
  {
   "cell_type": "code",
   "execution_count": 22,
   "id": "86024b98",
   "metadata": {},
   "outputs": [
    {
     "name": "stdout",
     "output_type": "stream",
     "text": [
      "Running k-means...\n",
      "iteration: 0, delta: 100000\n",
      "iteration: 1, delta: 0.13831687741336207\n",
      "iteration: 2, delta: 0.03704167058723781\n",
      "iteration: 3, delta: 0.01540168854401423\n",
      "iteration: 4, delta: 0.008786338758638615\n",
      "iteration: 5, delta: 0.005114530019692167\n",
      "iteration: 6, delta: 0.0037030372543705743\n",
      "iteration: 7, delta: 0.0025057719302195723\n",
      "iteration: 8, delta: 0.0018508771822840942\n",
      "iteration: 9, delta: 0.001491804857969535\n",
      "iteration: 10, delta: 0.0012273990889461216\n",
      "iteration: 11, delta: 0.0011848243677310439\n",
      "iteration: 12, delta: 0.0009752620105334281\n",
      "iteration: 13, delta: 0.0007436022906367622\n",
      "iteration: 14, delta: 0.0006620779404677786\n",
      "iteration: 15, delta: 0.0006097111243169818\n",
      "iteration: 16, delta: 0.0006761850226870273\n",
      "iteration: 17, delta: 0.000535467538765722\n",
      "iteration: 18, delta: 0.000465763068820167\n",
      "iteration: 19, delta: 0.0004893816800706354\n",
      "iteration: 20, delta: 0.00042669274933323777\n",
      "iteration: 21, delta: 0.0003926968066592527\n",
      "iteration: 22, delta: 0.0002670150884991415\n",
      "iteration: 23, delta: 0.00025927477754634414\n",
      "iteration: 24, delta: 0.00027705209052849417\n",
      "iteration: 25, delta: 0.00023653160413363735\n",
      "iteration: 26, delta: 0.00017420382994710298\n",
      "iteration: 27, delta: 0.00011859896238644769\n",
      "iteration: 28, delta: 0.00017249509306592876\n",
      "iteration: 29, delta: 0.0001961616166242416\n",
      "iteration: 30, delta: 0.000157313402700498\n",
      "iteration: 31, delta: 0.00016742485414829628\n",
      "iteration: 32, delta: 0.00013443146576914606\n",
      "iteration: 33, delta: 8.048221137884717e-05\n"
     ]
    }
   ],
   "source": [
    "# Apply your kmeans implementation to the projected, subsampled, train data:\n",
    "np.random.seed(0)\n",
    "M, _ = mykmeans(Z_LLD_train_subsample, K)"
   ]
  },
  {
   "cell_type": "markdown",
   "id": "2e7eb12b",
   "metadata": {
    "tags": []
   },
   "source": [
    "### Step 4.4: BoAW encode each file using the loaded data (5%)\n",
    "Using the result of the K-means method and LLD_data, use your implementation of BoAW to build one histogram per utterance/file."
   ]
  },
  {
   "cell_type": "code",
   "execution_count": 23,
   "id": "ddc990db",
   "metadata": {},
   "outputs": [],
   "source": [
    "# We can collect all boaw representations in one matrix. We will later split it!\n",
    "\n",
    "def boaw_representations(LLD_data, scaler, pca_W, p_pca, K, M):\n",
    "    \"Generate matrix with one boaw representation (for each utterance) per row.\"\n",
    "    N_files = len(LLD_data) # One sample per file/utterance, each sample being a histogram.\n",
    "    #print(f\"Number of utterances: {N_files}\")\n",
    "    X_boaw_all = np.zeros((N_files, K)) # Each row will have K entries, each with the frequency of one of the clusters in that utterance/audio file.\n",
    "    \n",
    "    for i in range(N_files):\n",
    "        X = LLD_data[i].LLDseq\n",
    "        X = scaler.transform(X)\n",
    "        reducedX = project_onto_pcs(X, pca_W, p_pca)\n",
    "        mb = myboaw(reducedX, M)\n",
    "        X_boaw_all[i] = mb\n",
    "        \n",
    "    return X_boaw_all"
   ]
  },
  {
   "cell_type": "code",
   "execution_count": 24,
   "id": "9669bae9",
   "metadata": {},
   "outputs": [
    {
     "name": "stdout",
     "output_type": "stream",
     "text": [
      "X_boaw_all shape: (704, 256)\n"
     ]
    }
   ],
   "source": [
    "# DO NOT MODIFY\n",
    "X_boaw_all = boaw_representations(LLD_data, scaler, pca_W, p_pca, K, M)\n",
    "print(f\"X_boaw_all shape: {X_boaw_all.shape}\")\n",
    "assert X_boaw_all.shape == (704, 256), \"Something went wrong!\""
   ]
  },
  {
   "cell_type": "code",
   "execution_count": 25,
   "id": "09bbf2d8",
   "metadata": {},
   "outputs": [],
   "source": [
    "# DO NOT MODIFY\n",
    "# And now we split the representations in train and val sets\n",
    "\n",
    "def split_ravdess_filewise_boaw(X_boaw_all, mask_train, mask_val, mask_test):\n",
    "    \"\"\"Use the masks computed before to split X_boaw_all in train, val and test parts.\"\"\"\n",
    "    X_boaw_train = X_boaw_all[mask_train]\n",
    "    X_boaw_val = X_boaw_all[mask_val]\n",
    "    X_boaw_test = X_boaw_all[mask_test]\n",
    "    \n",
    "    return X_boaw_train, X_boaw_val, X_boaw_test"
   ]
  },
  {
   "cell_type": "code",
   "execution_count": 26,
   "id": "f7af00cc",
   "metadata": {},
   "outputs": [],
   "source": [
    "# DO NOT MODIFY\n",
    "X_boaw_train, X_boaw_val, X_boaw_test = split_ravdess_filewise_boaw(\n",
    "    X_boaw_all, mask_train, mask_val, mask_test\n",
    ")\n",
    "Y_train = emoids_train\n",
    "Y_val = emoids_val\n",
    "Y_test = emoids_test"
   ]
  },
  {
   "cell_type": "code",
   "execution_count": 27,
   "id": "86ae4800",
   "metadata": {},
   "outputs": [
    {
     "name": "stdout",
     "output_type": "stream",
     "text": [
      "(352, 256)\n",
      "(176, 256)\n",
      "(176, 256)\n",
      "(352,)\n",
      "(176,)\n",
      "(176,)\n"
     ]
    }
   ],
   "source": [
    "# TEST\n",
    "print(X_boaw_train.shape)\n",
    "print(X_boaw_val.shape)\n",
    "print(X_boaw_test.shape)\n",
    "print(Y_train.shape)\n",
    "print(Y_val.shape)\n",
    "print(Y_test.shape)"
   ]
  },
  {
   "cell_type": "markdown",
   "id": "7dc70aec",
   "metadata": {
    "tags": []
   },
   "source": [
    "### Step 4.5: (5%)\n",
    "Use the sklearn implementation of LinearSVC (linear support vector machine) to optimize C using the validation set.\n",
    "\n",
    "To optimize C, simply try C = 10^-6, 10^-5, 10^-4, 10^-3, 10^-2, 10^-1, 10^-0, and select the one giving the best accuracy.\n",
    "Make sure to output best performance (i.e. accuracy) and corresponding C per BoAW representation."
   ]
  },
  {
   "cell_type": "code",
   "execution_count": 28,
   "id": "faeef18d",
   "metadata": {},
   "outputs": [],
   "source": [
    "from sklearn.svm import LinearSVC\n",
    "\n",
    "C_set = 10.**np.arange(-6, 1) # the experimental set of SVM complexity values\n",
    "\n",
    "def generate_performances(X_train, X_val, Y_train, Y_val, C_set):\n",
    "    \"\"\"Compute the performances of linear svc (with random state = 1) for each C in C_set.\n",
    "    \n",
    "    Output:\n",
    "        performances -- (len(C_set), 1) array with accuracy corresponding to C_set[i] on entry i.\n",
    "        \n",
    "    \"\"\"\n",
    "    performances = np.zeros((len(C_set), 1)) # Performace for a certain C will simply be average correct preds = accuracy\n",
    "    for i in range(len(C_set)):\n",
    "        lsvc = LinearSVC(C=C_set[i], random_state=1)\n",
    "        lsvc.fit(X_train, Y_train)\n",
    "        \n",
    "        val_score = lsvc.score(X_val, Y_val)\n",
    "        performances[i] = val_score\n",
    "        \n",
    "    return performances\n",
    "    \n",
    "def find_best_C(C_set, performances):\n",
    "    \"\"\"Determines the best C in C_set using the list performances of accuracies.\n",
    "    \n",
    "    Output:\n",
    "        best_C_boaw -- float \n",
    "        best_accuracy_boaw -- float \n",
    "    \"\"\"\n",
    "    max_index = np.argmax(performances)\n",
    "    best_C_boaw = C_set[max_index]\n",
    "    best_accuracy_boaw = performances[max_index]\n",
    "    \n",
    "    return best_C_boaw, best_accuracy_boaw"
   ]
  },
  {
   "cell_type": "code",
   "execution_count": 29,
   "id": "64d87cb6",
   "metadata": {},
   "outputs": [
    {
     "name": "stdout",
     "output_type": "stream",
     "text": [
      "For K=256 and p_pca=120:\n",
      "\tBest accuracy: [0.40340909]\n",
      "\tBest C: 1.0\n"
     ]
    }
   ],
   "source": [
    "# DO NOT MODIFY\n",
    "performances = generate_performances(X_boaw_train, X_boaw_val, Y_train, Y_val, C_set)\n",
    "best_C_boaw, best_accuracy_boaw = find_best_C(C_set, performances)\n",
    "\n",
    "print(f\"For K={K} and p_pca={p_pca}:\")\n",
    "print(f\"\\tBest accuracy: {best_accuracy_boaw}\")\n",
    "print(f\"\\tBest C: {best_C_boaw}\")"
   ]
  },
  {
   "cell_type": "markdown",
   "id": "c45b0f49",
   "metadata": {
    "tags": []
   },
   "source": [
    "### Step 4.5: Repeat steps 4.3 and 4.4 with different values of `p_pca` and `K` (0% - we do it for you!)\n",
    "\n",
    "Use `p_pca` in {120, 130}.\n",
    "Use `K` in {256, 512}.\n",
    "(Therefore you'll have 4 BoAW representations in total).\n",
    "\n",
    "Important note: since there will be hundreds of thousands of LLD vectors\n",
    "it will be wise to subsample them before K-Means taking one every `n_subsample=4` frames."
   ]
  },
  {
   "cell_type": "code",
   "execution_count": 30,
   "id": "9235388c",
   "metadata": {},
   "outputs": [],
   "source": [
    "# DO NOT MODIFY\n",
    "def generate_boaw_representation(X_zn, p_pca, pca_W, K, n_subsample, scaler):\n",
    "    X_projected = project_onto_pcs(X_zn, pca_W, p_pca)\n",
    "    X_projected_subsample = subsample(X_projected, n_subsample)\n",
    "    M, _ = mykmeans(X_projected_subsample, K)\n",
    "    X_boaw_all = boaw_representations(LLD_data, scaler, pca_W, p_pca, K, M)\n",
    "    #print(X_boaw_all.shape)\n",
    "    return X_boaw_all\n",
    "\n",
    "def test_hyperparameters(\n",
    "    X_zn, Y_train, Y_val, p_pcas, pca_W, Ks, n_subsample, scaler, C_set\n",
    "):\n",
    "    X_boaw_all_dict = {}\n",
    "    for p_pca in p_pcas:\n",
    "        for K in Ks:\n",
    "            print(\"-\"*5 + f\"\\np_pca: {p_pca}, K: {K}\")\n",
    "            \n",
    "            # Generate the representation\n",
    "            X_boaw_all = generate_boaw_representation(\n",
    "                X_zn, p_pca, pca_W, K, n_subsample, scaler\n",
    "            )\n",
    "            \n",
    "            # Split boaw data\n",
    "            X_boaw_train, X_boaw_val, X_boaw_test = split_ravdess_filewise_boaw(\n",
    "                X_boaw_all, mask_train, mask_val, mask_test\n",
    "            ) \n",
    "\n",
    "            # One list of performances per representation\n",
    "            performances = generate_performances(\n",
    "                X_boaw_train, X_boaw_val, Y_train, Y_val, C_set\n",
    "            )\n",
    "            \n",
    "            # One best C and best accuracy per representation\n",
    "            best_C_boaw, best_accuracy_boaw = find_best_C(C_set, performances) \n",
    "            \n",
    "            print(f\"\\nFor K={K} and p_pca={p_pca}:\")\n",
    "            print(f\"\\tBest accuracy: {float(best_accuracy_boaw)}\")\n",
    "            print(f\"\\tBest C: {best_C_boaw}\")\n",
    "            \n",
    "            X_boaw_all_dict[(p_pca, K)] = X_boaw_all\n",
    "            \n",
    "    return X_boaw_all_dict"
   ]
  },
  {
   "cell_type": "code",
   "execution_count": 31,
   "id": "1501215e",
   "metadata": {
    "tags": []
   },
   "outputs": [
    {
     "name": "stdout",
     "output_type": "stream",
     "text": [
      "-----\n",
      "p_pca: 120, K: 256\n",
      "Running k-means...\n",
      "iteration: 0, delta: 100000\n",
      "iteration: 1, delta: 0.13831687741336207\n",
      "iteration: 2, delta: 0.03704167058723781\n",
      "iteration: 3, delta: 0.01540168854401423\n",
      "iteration: 4, delta: 0.008786338758638615\n",
      "iteration: 5, delta: 0.005114530019692167\n",
      "iteration: 6, delta: 0.0037030372543705743\n",
      "iteration: 7, delta: 0.0025057719302195723\n",
      "iteration: 8, delta: 0.0018508771822840942\n",
      "iteration: 9, delta: 0.001491804857969535\n",
      "iteration: 10, delta: 0.0012273990889461216\n",
      "iteration: 11, delta: 0.0011848243677310439\n",
      "iteration: 12, delta: 0.0009752620105334281\n",
      "iteration: 13, delta: 0.0007436022906367622\n",
      "iteration: 14, delta: 0.0006620779404677786\n",
      "iteration: 15, delta: 0.0006097111243169818\n",
      "iteration: 16, delta: 0.0006761850226870273\n",
      "iteration: 17, delta: 0.000535467538765722\n",
      "iteration: 18, delta: 0.000465763068820167\n",
      "iteration: 19, delta: 0.0004893816800706354\n",
      "iteration: 20, delta: 0.00042669274933323777\n",
      "iteration: 21, delta: 0.0003926968066592527\n",
      "iteration: 22, delta: 0.0002670150884991415\n",
      "iteration: 23, delta: 0.00025927477754634414\n",
      "iteration: 24, delta: 0.00027705209052849417\n",
      "iteration: 25, delta: 0.00023653160413363735\n",
      "iteration: 26, delta: 0.00017420382994710298\n",
      "iteration: 27, delta: 0.00011859896238644769\n",
      "iteration: 28, delta: 0.00017249509306592876\n",
      "iteration: 29, delta: 0.0001961616166242416\n",
      "iteration: 30, delta: 0.000157313402700498\n",
      "iteration: 31, delta: 0.00016742485414829628\n",
      "iteration: 32, delta: 0.00013443146576914606\n",
      "iteration: 33, delta: 8.048221137884717e-05\n",
      "\n",
      "For K=256 and p_pca=120:\n",
      "\tBest accuracy: 0.4034090909090909\n",
      "\tBest C: 1.0\n",
      "-----\n",
      "p_pca: 120, K: 512\n",
      "Running k-means...\n",
      "iteration: 0, delta: 100000\n",
      "iteration: 1, delta: 0.09075285860902771\n",
      "iteration: 2, delta: 0.05176010255278468\n",
      "iteration: 3, delta: 0.02783274022068902\n",
      "iteration: 4, delta: 0.013733813783182272\n",
      "iteration: 5, delta: 0.012029094797190186\n",
      "iteration: 6, delta: 0.006732070346075788\n",
      "iteration: 7, delta: 0.004563428588353236\n",
      "iteration: 8, delta: 0.003351775171395214\n",
      "iteration: 9, delta: 0.002183712871157063\n",
      "iteration: 10, delta: 0.0018126788988558635\n",
      "iteration: 11, delta: 0.0014613921927914587\n",
      "iteration: 12, delta: 0.0010218681912796848\n",
      "iteration: 13, delta: 0.0009453780569880651\n",
      "iteration: 14, delta: 0.0007352983806832371\n",
      "iteration: 15, delta: 0.0006336534520065469\n",
      "iteration: 16, delta: 0.0006378745430550994\n",
      "iteration: 17, delta: 0.0005102764725415756\n",
      "iteration: 18, delta: 0.0004464809836721764\n",
      "iteration: 19, delta: 0.0003452598945389982\n",
      "iteration: 20, delta: 0.0002695267466843874\n",
      "iteration: 21, delta: 0.00023137052589042697\n",
      "iteration: 22, delta: 0.00025651605929690276\n",
      "iteration: 23, delta: 0.00033134060753659385\n",
      "iteration: 24, delta: 0.00026660525297806823\n",
      "iteration: 25, delta: 0.0002567729743371343\n",
      "iteration: 26, delta: 0.00018637537696989672\n",
      "iteration: 27, delta: 0.00023821670618970597\n",
      "iteration: 28, delta: 0.00022841483018842823\n",
      "iteration: 29, delta: 0.00017785232458335695\n",
      "iteration: 30, delta: 0.00013620426254343414\n",
      "iteration: 31, delta: 0.00014892312981388064\n",
      "iteration: 32, delta: 0.0001400866992213552\n",
      "iteration: 33, delta: 0.00012985773376881536\n",
      "iteration: 34, delta: 0.00011617559694341572\n",
      "iteration: 35, delta: 7.160708140836374e-05\n",
      "\n",
      "For K=512 and p_pca=120:\n",
      "\tBest accuracy: 0.4034090909090909\n",
      "\tBest C: 1e-06\n",
      "-----\n",
      "p_pca: 130, K: 256\n",
      "Running k-means...\n",
      "iteration: 0, delta: 100000\n",
      "iteration: 1, delta: 0.13843792836469784\n",
      "iteration: 2, delta: 0.0369798282103434\n",
      "iteration: 3, delta: 0.015437368129407464\n",
      "iteration: 4, delta: 0.008715463877047061\n",
      "iteration: 5, delta: 0.0051576475403765\n",
      "iteration: 6, delta: 0.0036514171726166715\n",
      "iteration: 7, delta: 0.00251605731837509\n",
      "iteration: 8, delta: 0.0018517564608310623\n",
      "iteration: 9, delta: 0.0014219706930927265\n",
      "iteration: 10, delta: 0.0011041327635705365\n",
      "iteration: 11, delta: 0.0009750489774435937\n",
      "iteration: 12, delta: 0.0009382943126765713\n",
      "iteration: 13, delta: 0.0007523764481277798\n",
      "iteration: 14, delta: 0.0006270170644527771\n",
      "iteration: 15, delta: 0.0005756998351031782\n",
      "iteration: 16, delta: 0.0007119119553768487\n",
      "iteration: 17, delta: 0.0006505824995386657\n",
      "iteration: 18, delta: 0.0004725901338806258\n",
      "iteration: 19, delta: 0.0004935378427649737\n",
      "iteration: 20, delta: 0.00042995952528125317\n",
      "iteration: 21, delta: 0.00046645106915039797\n",
      "iteration: 22, delta: 0.00029331091800904847\n",
      "iteration: 23, delta: 0.00022646460244640768\n",
      "iteration: 24, delta: 0.00019194510945440987\n",
      "iteration: 25, delta: 0.00021030985030697785\n",
      "iteration: 26, delta: 0.00026006949752608194\n",
      "iteration: 27, delta: 0.0002530169606669271\n",
      "iteration: 28, delta: 0.000269746814223208\n",
      "iteration: 29, delta: 0.00015432690622148727\n",
      "iteration: 30, delta: 0.00014358145760099428\n",
      "iteration: 31, delta: 0.0001391527824289148\n",
      "iteration: 32, delta: 0.00014368081354148326\n",
      "iteration: 33, delta: 0.00012299476428909728\n",
      "iteration: 34, delta: 8.685387181881268e-05\n",
      "\n",
      "For K=256 and p_pca=130:\n",
      "\tBest accuracy: 0.3977272727272727\n",
      "\tBest C: 1.0\n",
      "-----\n",
      "p_pca: 130, K: 512\n",
      "Running k-means...\n",
      "iteration: 0, delta: 100000\n",
      "iteration: 1, delta: 0.09086267443595437\n",
      "iteration: 2, delta: 0.05175848238010049\n",
      "iteration: 3, delta: 0.027807465482542554\n",
      "iteration: 4, delta: 0.013752494783910756\n",
      "iteration: 5, delta: 0.011877277596847341\n",
      "iteration: 6, delta: 0.006829156438578341\n",
      "iteration: 7, delta: 0.004558407707041959\n",
      "iteration: 8, delta: 0.003387931372649794\n",
      "iteration: 9, delta: 0.002308747027761699\n",
      "iteration: 10, delta: 0.0019040718598590152\n",
      "iteration: 11, delta: 0.0015281141215930543\n",
      "iteration: 12, delta: 0.0010393810671636872\n",
      "iteration: 13, delta: 0.0008698234374275591\n",
      "iteration: 14, delta: 0.0006936927398781696\n",
      "iteration: 15, delta: 0.0007115346636324089\n",
      "iteration: 16, delta: 0.0005949239286647953\n",
      "iteration: 17, delta: 0.0004838633560445787\n",
      "iteration: 18, delta: 0.0005268191339244386\n",
      "iteration: 19, delta: 0.00043919586815207033\n",
      "iteration: 20, delta: 0.0002901862455197853\n",
      "iteration: 21, delta: 0.00022211234632620397\n",
      "iteration: 22, delta: 0.00019724247365077944\n",
      "iteration: 23, delta: 0.00023886829499308353\n",
      "iteration: 24, delta: 0.0002577656822306358\n",
      "iteration: 25, delta: 0.00022805364702233855\n",
      "iteration: 26, delta: 0.00021831482293803664\n",
      "iteration: 27, delta: 0.00014942952897708864\n",
      "iteration: 28, delta: 0.00015330825591877454\n",
      "iteration: 29, delta: 0.00017541762714548897\n",
      "iteration: 30, delta: 0.0001692205246323515\n",
      "iteration: 31, delta: 0.00019504240517077812\n",
      "iteration: 32, delta: 0.00016392947198552474\n",
      "iteration: 33, delta: 0.00016778485646113918\n",
      "iteration: 34, delta: 0.00010486613719522229\n",
      "iteration: 35, delta: 9.925417275094839e-05\n",
      "\n",
      "For K=512 and p_pca=130:\n",
      "\tBest accuracy: 0.4090909090909091\n",
      "\tBest C: 0.001\n"
     ]
    }
   ],
   "source": [
    "# DO NOT MODIFY\n",
    "n_subsample = 4\n",
    "p_pcas = [120, 130]\n",
    "Ks = [256, 512]\n",
    "X_boaw_all_dict = test_hyperparameters(\n",
    "    X_zn, Y_train, Y_val, p_pcas, pca_W, Ks, n_subsample, scaler, C_set\n",
    ")"
   ]
  },
  {
   "cell_type": "markdown",
   "id": "d93500c7",
   "metadata": {
    "tags": []
   },
   "source": [
    "### Step 4.6: (0% - we do it for you!)\n",
    " We did everything using the train and validation sets only until now. This enables us to choose the best hyperparameters `p_pca`, `K` and `C`.\n",
    " \n",
    " Looking at the performance/accuracy results you obtained in the previous step, answer the question: which `p_pca`, `K` and `C` combination gave the best validation set performance?\n",
    " AND: using the boaw encoding for that `p_pca, K` combination and the best C, finally apply the setting on the test set."
   ]
  },
  {
   "cell_type": "code",
   "execution_count": 32,
   "id": "ac713140",
   "metadata": {},
   "outputs": [
    {
     "name": "stdout",
     "output_type": "stream",
     "text": [
      "\n",
      "For K=512, p_pca=130 and C=0.001:\n",
      "\tAccuracy: 0.4375.\n"
     ]
    }
   ],
   "source": [
    "# NOT GRADED, BUT YOU CAN PLAY WITH THE VALUES OF K, p_pca AND C\n",
    "# Best values:\n",
    "K = 512\n",
    "p_pca = 130\n",
    "C = 0.001\n",
    "\n",
    "# 1. Now we combine the training and validation, retrain a model with best C and\n",
    "# best boaw representation (i.e. best K, p_pca) then predict on the test set.\n",
    "\n",
    "# Generate boaw representation for this p_pca and K:\n",
    "X_boaw_all = X_boaw_all_dict[(p_pca, K)]\n",
    "\n",
    "# Split boaw data\n",
    "X_boaw_train, X_boaw_val, X_boaw_test = split_ravdess_filewise_boaw(\n",
    "    X_boaw_all, mask_train, mask_val, mask_test\n",
    ") \n",
    "\n",
    "\n",
    "# join train and val in one\n",
    "X_boaw_trainval = np.concatenate([X_boaw_train, X_boaw_val])\n",
    "Y_trainval = np.concatenate([Y_train, Y_val])\n",
    "\n",
    "# 2. Now we run the classification model\n",
    "clf = LinearSVC(C=C, random_state=1)\n",
    "clf.fit(X_boaw_trainval, Y_trainval)\n",
    "preds_test = clf.predict(X_boaw_test)\n",
    "performance = np.mean(Y_test == preds_test)\n",
    "\n",
    "print(f\"\\nFor K={K}, p_pca={p_pca} and C={C}:\")\n",
    "print(f\"\\tAccuracy: {performance}.\")"
   ]
  },
  {
   "cell_type": "markdown",
   "id": "6d476a17",
   "metadata": {},
   "source": [
    "Note: If everything went well, you should have an accuracy around 0.43 (on the test set) when using the best hyper-parameters `K`, `p_pca` and `C`."
   ]
  },
  {
   "cell_type": "markdown",
   "id": "bb19371f",
   "metadata": {},
   "source": [
    "**Before you submit, click Kernel > Restart & Run All to make sure you submit a working version of your code!**\n",
    "\n",
    "--- End of the assignment ---"
   ]
  }
 ],
 "metadata": {
  "kernelspec": {
   "display_name": "Python 3 (ipykernel)",
   "language": "python",
   "name": "python3"
  },
  "language_info": {
   "codemirror_mode": {
    "name": "ipython",
    "version": 3
   },
   "file_extension": ".py",
   "mimetype": "text/x-python",
   "name": "python",
   "nbconvert_exporter": "python",
   "pygments_lexer": "ipython3",
   "version": "3.9.7"
  }
 },
 "nbformat": 4,
 "nbformat_minor": 5
}
